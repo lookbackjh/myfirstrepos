{
 "metadata": {
  "language_info": {
   "codemirror_mode": {
    "name": "ipython",
    "version": 3
   },
   "file_extension": ".py",
   "mimetype": "text/x-python",
   "name": "python",
   "nbconvert_exporter": "python",
   "pygments_lexer": "ipython3",
   "version": "3.9.6"
  },
  "orig_nbformat": 4,
  "kernelspec": {
   "name": "python3",
   "display_name": "Python 3.9.6 64-bit (windows store)"
  },
  "interpreter": {
   "hash": "4ba6b5235c472148a5e4944b493e5c97799165cf05377d2858f35c1701e127b6"
  }
 },
 "nbformat": 4,
 "nbformat_minor": 2,
 "cells": [
  {
   "cell_type": "code",
   "execution_count": 8,
   "metadata": {},
   "outputs": [
    {
     "output_type": "stream",
     "name": "stdout",
     "text": [
      "      fun: 10.0\n hess_inv: array([[0.5]])\n      jac: array([0.])\n  message: 'Optimization terminated successfully.'\n     nfev: 6\n      nit: 2\n     njev: 3\n   status: 0\n  success: True\n        x: array([1.00000001])\n"
     ]
    }
   ],
   "source": [
    "from scipy.optimize import minimize\n",
    "def Calculator(x,y,z):\n",
    "    opt=(x-1)**2+y**2+z**2\n",
    "    return opt\n",
    "x=0\n",
    "x=minimize(Calculator,x,args=(1,3))\n",
    "print(x)\n"
   ]
  },
  {
   "cell_type": "code",
   "execution_count": 15,
   "metadata": {},
   "outputs": [
    {
     "output_type": "stream",
     "name": "stdout",
     "text": [
      "[-4.00000000e+00 -3.90000000e+00 -3.80000000e+00 -3.70000000e+00\n -3.60000000e+00 -3.50000000e+00 -3.40000000e+00 -3.30000000e+00\n -3.20000000e+00 -3.10000000e+00 -3.00000000e+00 -2.90000000e+00\n -2.80000000e+00 -2.70000000e+00 -2.60000000e+00 -2.50000000e+00\n -2.40000000e+00 -2.30000000e+00 -2.20000000e+00 -2.10000000e+00\n -2.00000000e+00 -1.90000000e+00 -1.80000000e+00 -1.70000000e+00\n -1.60000000e+00 -1.50000000e+00 -1.40000000e+00 -1.30000000e+00\n -1.20000000e+00 -1.10000000e+00 -1.00000000e+00 -9.00000000e-01\n -8.00000000e-01 -7.00000000e-01 -6.00000000e-01 -5.00000000e-01\n -4.00000000e-01 -3.00000000e-01 -2.00000000e-01 -1.00000000e-01\n  3.55271368e-15  1.00000000e-01  2.00000000e-01  3.00000000e-01\n  4.00000000e-01  5.00000000e-01  6.00000000e-01  7.00000000e-01\n  8.00000000e-01  9.00000000e-01  1.00000000e+00  1.10000000e+00\n  1.20000000e+00  1.30000000e+00  1.40000000e+00  1.50000000e+00\n  1.60000000e+00  1.70000000e+00  1.80000000e+00  1.90000000e+00]\n[1.00000000e-04 1.25892541e-04 1.58489319e-04 1.99526231e-04\n 2.51188643e-04 3.16227766e-04 3.98107171e-04 5.01187234e-04\n 6.30957344e-04 7.94328235e-04 1.00000000e-03 1.25892541e-03\n 1.58489319e-03 1.99526231e-03 2.51188643e-03 3.16227766e-03\n 3.98107171e-03 5.01187234e-03 6.30957344e-03 7.94328235e-03\n 1.00000000e-02 1.25892541e-02 1.58489319e-02 1.99526231e-02\n 2.51188643e-02 3.16227766e-02 3.98107171e-02 5.01187234e-02\n 6.30957344e-02 7.94328235e-02 1.00000000e-01 1.25892541e-01\n 1.58489319e-01 1.99526231e-01 2.51188643e-01 3.16227766e-01\n 3.98107171e-01 5.01187234e-01 6.30957344e-01 7.94328235e-01\n 1.00000000e+00 1.25892541e+00 1.58489319e+00 1.99526231e+00\n 2.51188643e+00 3.16227766e+00 3.98107171e+00 5.01187234e+00\n 6.30957344e+00 7.94328235e+00 1.00000000e+01 1.25892541e+01\n 1.58489319e+01 1.99526231e+01 2.51188643e+01 3.16227766e+01\n 3.98107171e+01 5.01187234e+01 6.30957344e+01 7.94328235e+01]\n"
     ]
    }
   ],
   "source": [
    "import numpy as np\n",
    "i=np.arange(-4,2,0.1)\n",
    "print(i)\n",
    "print(10**i)"
   ]
  },
  {
   "cell_type": "code",
   "execution_count": 18,
   "metadata": {},
   "outputs": [
    {
     "output_type": "stream",
     "name": "stdout",
     "text": [
      "0\n[4]\n1\n[5]\n2\n[6]\n"
     ]
    }
   ],
   "source": [
    "a=[1,2,3]\n",
    "b=[[4],[5],[6]]\n",
    "for i, j in enumerate(b):\n",
    "    print(i)\n",
    "    print(j)"
   ]
  },
  {
   "cell_type": "code",
   "execution_count": 20,
   "metadata": {},
   "outputs": [
    {
     "output_type": "stream",
     "name": "stdout",
     "text": [
      "[0 1 2 3 4 5 6 7 8 9]\n"
     ]
    }
   ],
   "source": [
    "a=np.arange(0,10)\n",
    "print(a)"
   ]
  },
  {
   "cell_type": "code",
   "execution_count": 14,
   "metadata": {},
   "outputs": [
    {
     "output_type": "stream",
     "name": "stdout",
     "text": [
      "[[ 1.          0.76218966]\n [ 1.         -0.17436087]\n [ 1.         -0.23519531]\n [ 1.         -0.75230992]\n [ 1.         -0.26238671]\n [ 1.         -0.51142349]\n [ 1.          0.57146398]\n [ 1.          0.65175372]\n [ 1.          0.25203345]\n [ 1.         -0.62607003]]\n[[ 1.          0.76218966]\n [ 1.         -0.17436087]\n [ 1.         -0.23519531]\n [ 1.         -0.75230992]\n [ 1.         -0.26238671]\n [ 1.         -0.51142349]\n [ 1.          0.57146398]\n [ 1.          0.65175372]\n [ 1.          0.25203345]\n [ 1.         -0.62607003]]\n"
     ]
    }
   ],
   "source": [
    "import numpy as np\n",
    "x1 = -1 + 2 * np.random.rand(10, 1)\n",
    "y=np.c_[np.ones([10,1]),x1]\n",
    "print(y)\n",
    "z=np.matrix(y)\n",
    "print(z)"
   ]
  },
  {
   "cell_type": "code",
   "execution_count": 18,
   "metadata": {},
   "outputs": [
    {
     "output_type": "stream",
     "name": "stdout",
     "text": [
      "[[63.74566907]\n [27.52614302]\n [12.41860625]\n [16.01620096]\n [49.97045545]\n [30.6731009 ]\n [44.26997328]\n [34.19870264]\n [27.64137152]\n [51.65634676]]\n"
     ]
    }
   ],
   "source": [
    "d=np.random.normal(3,1,(10,1))\n",
    "d=np.matrix(d)\n",
    "d=np.exp(d)\n",
    "print(d)"
   ]
  },
  {
   "cell_type": "code",
   "execution_count": 3,
   "metadata": {},
   "outputs": [],
   "source": [
    "import numpy as np\n",
    "A=np.array([[1,2,3],[4,5,6],[7,8,9]])\n",
    "B=np.array([[4,5,6],[7,8,9],[10,11,12]])\n",
    "C=np.array([  [(A[i,j]+B[i,j]) for j in range(B.shape[1]) ] for i in range(B.shape[0])  ])\n",
    "print(C)\n"
   ]
  },
  {
   "cell_type": "code",
   "execution_count": null,
   "metadata": {},
   "outputs": [],
   "source": []
  }
 ]
}